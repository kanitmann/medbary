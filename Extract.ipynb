{
 "metadata": {
  "language_info": {
   "codemirror_mode": {
    "name": "ipython",
    "version": 3
   },
   "file_extension": ".py",
   "mimetype": "text/x-python",
   "name": "python",
   "nbconvert_exporter": "python",
   "pygments_lexer": "ipython3",
   "version": "3.6.8-final"
  },
  "orig_nbformat": 2,
  "kernelspec": {
   "name": "python3",
   "display_name": "Python 3.6.8 64-bit",
   "metadata": {
    "interpreter": {
     "hash": "f03671fe8dd469bb14f7acb8a3d4a021fe796241a0fd350b50b3fae1ca3daa01"
    }
   }
  }
 },
 "nbformat": 4,
 "nbformat_minor": 2,
 "cells": [
  {
   "cell_type": "code",
   "execution_count": 25,
   "metadata": {},
   "outputs": [],
   "source": [
    "import cv2\n",
    "import imutils\n"
   ]
  },
  {
   "cell_type": "code",
   "execution_count": 9,
   "metadata": {},
   "outputs": [
    {
     "output_type": "stream",
     "name": "stdout",
     "text": [
      "4.2.0\n"
     ]
    }
   ],
   "source": [
    "print( cv2.__version__ )"
   ]
  },
  {
   "cell_type": "code",
   "execution_count": 22,
   "metadata": {},
   "outputs": [],
   "source": [
    "image = \"./Images/img.png\"\n",
    "img = cv2.imread(image)\n",
    "gray = cv2.cvtColor(img,cv2.COLOR_BGR2GRAY)"
   ]
  },
  {
   "cell_type": "code",
   "execution_count": 26,
   "metadata": {},
   "outputs": [],
   "source": [
    "ddepth = cv2.cv.CV_32F if imutils.is_cv2() else cv2.CV_32F\n",
    "gradX = cv2.Sobel(gray, ddepth=ddepth, dx=1, dy=0, ksize=-1)\n",
    "gradY = cv2.Sobel(gray, ddepth=ddepth, dx=0, dy=1, ksize=-1)\n",
    "# subtract the y-gradient from the x-gradient\n",
    "gradient = cv2.subtract(gradX, gradY)\n",
    "gradient = cv2.convertScaleAbs(gradient)"
   ]
  },
  {
   "cell_type": "code",
   "execution_count": 27,
   "metadata": {},
   "outputs": [],
   "source": [
    "blurred = cv2.blur(gradient, (9, 9))\n",
    "(_, thresh) = cv2.threshold(blurred, 225, 255, cv2.THRESH_BINARY)"
   ]
  },
  {
   "cell_type": "code",
   "execution_count": 28,
   "metadata": {},
   "outputs": [],
   "source": [
    "\n",
    "cv2.imshow(\"Main Image\", img)\n",
    "cv2.imshow(\"gray\", gray)\n",
    "cv2.imshow(\"gradient\", gradient)\n",
    "cv2.imshow(\"blur\", blurred)\n",
    "cv2.waitKey(0)\n",
    "cv2.destroyAllWindows()  "
   ]
  },
  {
   "cell_type": "code",
   "execution_count": null,
   "metadata": {},
   "outputs": [],
   "source": []
  }
 ]
}